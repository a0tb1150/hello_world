{
  "nbformat": 4,
  "nbformat_minor": 0,
  "metadata": {
    "colab": {
      "name": "main",
      "provenance": []
    },
    "kernelspec": {
      "name": "python3",
      "display_name": "Python 3"
    }
  },
  "cells": [
    {
      "cell_type": "code",
      "metadata": {
        "id": "kZjZGvOdwMn_",
        "colab_type": "code",
        "outputId": "97d81340-0cf8-4da7-f4e1-ff3807cebc98",
        "colab": {
          "base_uri": "https://localhost:8080/",
          "height": 34
        }
      },
      "source": [
        #"import sys\n",
        #"sys.path.append('/content/drive/My Drive/Colab Notebooks/test/')\n",
        "\n",
        "from ex1 import my_add\n",
        "my_add(1,2)\n"
      ],
      "execution_count": 11,
      "outputs": [
        {
          "output_type": "execute_result",
          "data": {
            "text/plain": [
              "3"
            ]
          },
          "metadata": {
            "tags": []
          },
          "execution_count": 11
        }
      ]
    }
  ]
}